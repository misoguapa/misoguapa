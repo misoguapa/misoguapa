{
  "nbformat": 4,
  "nbformat_minor": 0,
  "metadata": {
    "colab": {
      "name": "Copy of Python.ipynb",
      "provenance": [],
      "authorship_tag": "ABX9TyNkyD/IboIq3LgRDssSpYOi",
      "include_colab_link": true
    },
    "kernelspec": {
      "name": "python3",
      "display_name": "Python 3"
    },
    "language_info": {
      "name": "python"
    }
  },
  "cells": [
    {
      "cell_type": "markdown",
      "metadata": {
        "id": "view-in-github",
        "colab_type": "text"
      },
      "source": [
        "<a href=\"https://colab.research.google.com/github/misoguapa/misoguapa/blob/main/Copy_of_Python.ipynb\" target=\"_parent\"><img src=\"https://colab.research.google.com/assets/colab-badge.svg\" alt=\"Open In Colab\"/></a>"
      ]
    },
    {
      "cell_type": "code",
      "execution_count": null,
      "metadata": {
        "id": "0Stkt26DH33b"
      },
      "outputs": [],
      "source": [
        ""
      ]
    },
    {
      "cell_type": "markdown",
      "source": [
        "Functions\n",
        "Input --> output box"
      ],
      "metadata": {
        "id": "5iYHm8pUH5Wg"
      }
    },
    {
      "cell_type": "code",
      "source": [
        "def icebreaker (): #function name is icebreaker, leaving () empty bc not taking in any values for this function.\n",
        "#Everything that is indented after the colon is locked into this box.\n",
        "  print('my name is Tate')\n",
        "  print('I like to code and play tennis')\n",
        "\n",
        "icebreaker()\n",
        "#To call the function, it has to be on its own fresh line. Don't indent within prior function."
      ],
      "metadata": {
        "colab": {
          "base_uri": "https://localhost:8080/"
        },
        "id": "Bx74ZlqVH8iP",
        "outputId": "5095aca5-8084-4830-e8f2-f15675b1ac89"
      },
      "execution_count": null,
      "outputs": [
        {
          "output_type": "stream",
          "name": "stdout",
          "text": [
            "my name is Tate\n",
            "I like to code and play tennis\n"
          ]
        }
      ]
    },
    {
      "cell_type": "markdown",
      "source": [
        "Parameters\n",
        "\n",
        "\n",
        "*   Sometimes we don't want to repeat the exact same code every time we call a function\n",
        "\n"
      ],
      "metadata": {
        "id": "jnmnzoqAJRW5"
      }
    },
    {
      "cell_type": "code",
      "source": [
        "def greet_guest (name):\n",
        "  print (\"Welcome \" + name +\"!\")\n",
        "\n",
        "greet_guest (\"Emil\")\n",
        "greet_guest (\"Tobias\")\n",
        "greet_guest (\"Grace\")"
      ],
      "metadata": {
        "colab": {
          "base_uri": "https://localhost:8080/"
        },
        "id": "XgGi41jyJiLg",
        "outputId": "be277f20-cca1-4911-c3a7-16567268fdae"
      },
      "execution_count": null,
      "outputs": [
        {
          "output_type": "stream",
          "name": "stdout",
          "text": [
            "Welcome Emil!\n",
            "Welcome Tobias!\n",
            "Welcome Grace!\n"
          ]
        }
      ]
    },
    {
      "cell_type": "code",
      "source": [
        "def countTo (n):\n",
        "  for i in range (1, n+1):  #We need to start at 1 bc computer will always start counting at zero.\n",
        "    print (i)\n",
        "\n",
        "countTo(5)"
      ],
      "metadata": {
        "colab": {
          "base_uri": "https://localhost:8080/"
        },
        "id": "VT04Q9XwKz74",
        "outputId": "e01c34d5-035c-4b1e-b985-e5fcbd95eae2"
      },
      "execution_count": null,
      "outputs": [
        {
          "output_type": "stream",
          "name": "stdout",
          "text": [
            "1\n",
            "2\n",
            "3\n",
            "4\n",
            "5\n"
          ]
        }
      ]
    },
    {
      "cell_type": "code",
      "source": [
        "#Test print of list to count to 5\n",
        "print (list(range(1,6)))"
      ],
      "metadata": {
        "colab": {
          "base_uri": "https://localhost:8080/"
        },
        "id": "UzjGs74JMSKa",
        "outputId": "3780fdfa-c2d7-4465-c315-d97e02e43de0"
      },
      "execution_count": null,
      "outputs": [
        {
          "output_type": "stream",
          "name": "stdout",
          "text": [
            "[1, 2, 3, 4, 5]\n"
          ]
        }
      ]
    },
    {
      "cell_type": "code",
      "source": [
        "\n",
        "\n",
        "def countTo (n):\n",
        "  for i in range (1, n+1):\n",
        "    print (i)\n",
        "\n",
        "countTo(5)"
      ],
      "metadata": {
        "id": "IYf7Sa79LtbV"
      },
      "execution_count": null,
      "outputs": []
    },
    {
      "cell_type": "markdown",
      "source": [
        "Multiple Parameters"
      ],
      "metadata": {
        "id": "o3IPYlz4MdGo"
      }
    },
    {
      "cell_type": "code",
      "source": [
        "def countDown (n, msg):\n",
        "  for i in range (n, 0, -1): #third number tells you how much we are increasing or decreasing by. In this case, we decrease by one)\n",
        "    print (i)\n",
        "  print (msg)\n",
        "\n",
        "countDown (3, 'Blastoff!')\n",
        "#Start number is 3, end number is zero, step down every time by 1\n",
        "#Python is more lenient and does not make you specify what data type n is. In other languages, you have to do more to specify the data type.\n"
      ],
      "metadata": {
        "colab": {
          "base_uri": "https://localhost:8080/"
        },
        "id": "7MqEWAdfMf2a",
        "outputId": "b2d5bf97-6b74-4232-b26f-5f7fa87dea37"
      },
      "execution_count": null,
      "outputs": [
        {
          "output_type": "stream",
          "name": "stdout",
          "text": [
            "3\n",
            "2\n",
            "1\n",
            "Blastoff!\n"
          ]
        }
      ]
    },
    {
      "cell_type": "markdown",
      "source": [
        "Parameter Mini Question\n",
        "\n",
        "We can see that Name and Age will change with each situation. "
      ],
      "metadata": {
        "id": "AHW8D6jtNz5r"
      }
    },
    {
      "cell_type": "code",
      "source": [
        "def future_age (n, name): \n",
        "  print (name+  ' will be ' + str(n+5) + ' years old in 5 years!')\n",
        "\n",
        "future_age (14, 'Jimmy')"
      ],
      "metadata": {
        "colab": {
          "base_uri": "https://localhost:8080/"
        },
        "id": "JWRO7tGDN14s",
        "outputId": "198725e8-53dc-4db3-a3e1-9a81ad930105"
      },
      "execution_count": null,
      "outputs": [
        {
          "output_type": "stream",
          "name": "stdout",
          "text": [
            "Jimmy will be 19 years old in 5 years!\n"
          ]
        }
      ]
    },
    {
      "cell_type": "code",
      "source": [
        "def years (name, age):\n",
        "  new_age = age + 5\n",
        "  print (name + \" will be \" + str(new_age) + \" years old in five years!\")\n",
        "\n",
        "years (\"Jimmy\", 14)\n",
        "years (\"Nathan\", 17)"
      ],
      "metadata": {
        "colab": {
          "base_uri": "https://localhost:8080/"
        },
        "id": "xvt9PfGYP-Qq",
        "outputId": "ddec645b-c52e-4191-a28c-9209dd396dd3"
      },
      "execution_count": null,
      "outputs": [
        {
          "output_type": "stream",
          "name": "stdout",
          "text": [
            "Jimmy will be 19 years old in five years!\n",
            "Nathan will be 22 years old in five years!\n"
          ]
        }
      ]
    },
    {
      "cell_type": "code",
      "source": [
        "def years (name, age):\n",
        "  new_age = age + 5\n",
        "  for i in range (age, new_age + 1):\n",
        "    print (i)\n",
        "  print (name + \" will be \" + str (new_age) + \" years old\")\n",
        "\n",
        "years (\"Jimmy\", 14)\n",
        "years (\"Nathan\", 17)"
      ],
      "metadata": {
        "colab": {
          "base_uri": "https://localhost:8080/"
        },
        "id": "VmGCShDFRtWo",
        "outputId": "b245b038-80e4-4d42-916f-b5aea2aae6cc"
      },
      "execution_count": null,
      "outputs": [
        {
          "output_type": "stream",
          "name": "stdout",
          "text": [
            "14\n",
            "15\n",
            "16\n",
            "17\n",
            "18\n",
            "19\n",
            "Jimmy will be 19 years old\n",
            "17\n",
            "18\n",
            "19\n",
            "20\n",
            "21\n",
            "22\n",
            "Nathan will be 22 years old\n"
          ]
        }
      ]
    },
    {
      "cell_type": "markdown",
      "source": [
        "Return\n",
        "If we want to use the results of the function, we will want to save the results of the function and store it.\n",
        "\n",
        "Expression \n",
        "Statement: function\n",
        "\n",
        "Return: turns function into expression\n",
        "\n"
      ],
      "metadata": {
        "id": "zkAV_Dh5SQcs"
      }
    },
    {
      "cell_type": "code",
      "source": [
        "def double (n):\n",
        "  doubled_number = n * 2\n",
        "  return doubled_number #cannot access the doubled_number within the function\n",
        "\n",
        "number = double (8)\n",
        "print (number)\n"
      ],
      "metadata": {
        "colab": {
          "base_uri": "https://localhost:8080/"
        },
        "id": "RwQ2ygCRSijU",
        "outputId": "51c7e2a4-8907-4965-de04-ea931b7fc3b1"
      },
      "execution_count": null,
      "outputs": [
        {
          "output_type": "stream",
          "name": "stdout",
          "text": [
            "16\n"
          ]
        }
      ]
    },
    {
      "cell_type": "markdown",
      "source": [
        "Storing function returns as a list"
      ],
      "metadata": {
        "id": "nfrTN536UGTI"
      }
    },
    {
      "cell_type": "code",
      "source": [
        "def double (n):\n",
        "  doubled_number = n * 2\n",
        "  return doubled_number #cannot access the doubled_number within the function\n",
        "\n",
        "doubled_list = [double(1), double(2), double(3)]\n",
        "\n",
        "print (doubled_list)"
      ],
      "metadata": {
        "colab": {
          "base_uri": "https://localhost:8080/"
        },
        "id": "m3hMa5Z0TLgC",
        "outputId": "907c53c7-a012-45c7-90d1-e7006e3d0165"
      },
      "execution_count": null,
      "outputs": [
        {
          "output_type": "stream",
          "name": "stdout",
          "text": [
            "[2, 4, 6]\n"
          ]
        }
      ]
    },
    {
      "cell_type": "markdown",
      "source": [
        "Return Mini Question\n",
        "Write a function that takes in a temperature in C and returns the same temperature in F\n",
        "\n",
        "Hint: F = (C * 9/5) + 32 "
      ],
      "metadata": {
        "id": "Y4h184i5ULVT"
      }
    },
    {
      "cell_type": "code",
      "source": [
        "def temperature (C):\n",
        "  F = (C * (9/5) )+32\n",
        "  return F \n",
        "\n",
        "temperature (25)\n",
        "\n",
        "#OR\n",
        "\n",
        "def temp (C):\n",
        "  F = (C * (9/5) )+32\n",
        "  return F \n",
        "\n",
        "Celcius = [27, 22, 30, 28]\n",
        "fahrenheit = []\n",
        "for temperature in Celcius:\n",
        "  fahrenheit.apped (temperature(temp))\n",
        "\n",
        "print (fahrenheit)"
      ],
      "metadata": {
        "colab": {
          "base_uri": "https://localhost:8080/",
          "height": 232
        },
        "id": "RD1uge_vUJ4x",
        "outputId": "d66efd6c-96b9-4f86-da70-2dcff4bfa5b4"
      },
      "execution_count": null,
      "outputs": [
        {
          "output_type": "error",
          "ename": "AttributeError",
          "evalue": "ignored",
          "traceback": [
            "\u001b[0;31m---------------------------------------------------------------------------\u001b[0m",
            "\u001b[0;31mAttributeError\u001b[0m                            Traceback (most recent call last)",
            "\u001b[0;32m<ipython-input-38-38444742b1f6>\u001b[0m in \u001b[0;36m<module>\u001b[0;34m()\u001b[0m\n\u001b[1;32m     10\u001b[0m \u001b[0mfahrenheit\u001b[0m \u001b[0;34m=\u001b[0m \u001b[0;34m[\u001b[0m\u001b[0;34m]\u001b[0m\u001b[0;34m\u001b[0m\u001b[0;34m\u001b[0m\u001b[0m\n\u001b[1;32m     11\u001b[0m \u001b[0;32mfor\u001b[0m \u001b[0mtemperature\u001b[0m \u001b[0;32min\u001b[0m \u001b[0mCelcius\u001b[0m\u001b[0;34m:\u001b[0m\u001b[0;34m\u001b[0m\u001b[0;34m\u001b[0m\u001b[0m\n\u001b[0;32m---> 12\u001b[0;31m   \u001b[0mfahrenheit\u001b[0m\u001b[0;34m.\u001b[0m\u001b[0mapped\u001b[0m \u001b[0;34m(\u001b[0m\u001b[0mtemperature\u001b[0m\u001b[0;34m(\u001b[0m\u001b[0mtemp\u001b[0m\u001b[0;34m)\u001b[0m\u001b[0;34m)\u001b[0m\u001b[0;34m\u001b[0m\u001b[0;34m\u001b[0m\u001b[0m\n\u001b[0m\u001b[1;32m     13\u001b[0m \u001b[0;34m\u001b[0m\u001b[0m\n\u001b[1;32m     14\u001b[0m \u001b[0mprint\u001b[0m \u001b[0;34m(\u001b[0m\u001b[0mfahrenheit\u001b[0m\u001b[0;34m)\u001b[0m\u001b[0;34m\u001b[0m\u001b[0;34m\u001b[0m\u001b[0m\n",
            "\u001b[0;31mAttributeError\u001b[0m: 'list' object has no attribute 'apped'"
          ]
        }
      ]
    },
    {
      "cell_type": "code",
      "source": [
        "def temperature (F):\n",
        "  C = (F - 32) * (5/9)\n",
        "  return C \n",
        "\n",
        "temperature (90)"
      ],
      "metadata": {
        "colab": {
          "base_uri": "https://localhost:8080/"
        },
        "id": "b7UIkRNFVLZ1",
        "outputId": "3863b42c-4fe8-4152-a9a9-208fb8417195"
      },
      "execution_count": null,
      "outputs": [
        {
          "output_type": "execute_result",
          "data": {
            "text/plain": [
              "32.22222222222222"
            ]
          },
          "metadata": {},
          "execution_count": 37
        }
      ]
    },
    {
      "cell_type": "markdown",
      "source": [
        "Wordle Solve (using the list in source code)\n",
        "\n",
        "\n",
        "1.   Right-click on Wordle's page > INSPECT > SOURCES > Look for .js (for Javascript) file. Open .js file and go through and copy the first list of words that are not alphabetized.\n",
        "2.   \n",
        "\n",
        "\n",
        "\n"
      ],
      "metadata": {
        "id": "4YvsSwdhLGV_"
      }
    },
    {
      "cell_type": "code",
      "source": [
        "wordle = [\"cigar\",\"rebut\",\"sissy\",\"humph\",\"awake\",\"blush\",\"focal\",\"evade\",\"naval\",\"serve\",\"heath\",\"dwarf\",\"model\",\"karma\",\"stink\",\"grade\",\"quiet\",\"bench\",\"abate\",\"feign\",\"major\",\"death\",\"fresh\",\"crust\",\"stool\",\"colon\",\"abase\",\"marry\",\"react\",\"batty\",\"pride\",\"floss\",\"helix\",\"croak\",\"staff\",\"paper\",\"unfed\",\"whelp\",\"trawl\",\"outdo\",\"adobe\",\"crazy\",\"sower\",\"repay\",\"digit\",\"crate\",\"cluck\",\"spike\",\"mimic\",\"pound\",\"maxim\",\"linen\",\"unmet\",\"flesh\",\"booby\",\"forth\",\"first\",\"stand\",\"belly\",\"ivory\",\"seedy\",\"print\",\"yearn\",\"drain\",\"bribe\",\"stout\",\"panel\",\"crass\",\"flume\",\"offal\",\"agree\",\"error\",\"swirl\",\"argue\",\"bleed\",\"delta\",\"flick\",\"totem\",\"wooer\",\"front\",\"shrub\",\"parry\",\"biome\",\"lapel\",\"start\",\"greet\",\"goner\",\"golem\",\"lusty\",\"loopy\",\"round\",\"audit\",\"lying\",\"gamma\",\"labor\",\"islet\",\"civic\",\"forge\",\"corny\",\"moult\",\"basic\",\"salad\",\"agate\",\"spicy\",\"spray\",\"essay\",\"fjord\",\"spend\",\"kebab\",\"guild\",\"aback\",\"motor\",\"alone\",\"hatch\",\"hyper\",\"thumb\",\"dowry\",\"ought\",\"belch\",\"dutch\",\"pilot\",\"tweed\",\"comet\",\"jaunt\",\"enema\",\"steed\",\"abyss\",\"growl\",\"fling\",\"dozen\",\"boozy\",\"erode\",\"world\",\"gouge\",\"click\",\"briar\",\"great\",\"altar\",\"pulpy\",\"blurt\",\"coast\",\"duchy\",\"groin\",\"fixer\",\"group\",\"rogue\",\"badly\",\"smart\",\"pithy\",\"gaudy\",\"chill\",\"heron\",\"vodka\",\"finer\",\"surer\",\"radio\",\"rouge\",\"perch\",\"retch\",\"wrote\",\"clock\",\"tilde\",\"store\",\"prove\",\"bring\",\"solve\",\"cheat\",\"grime\",\"exult\",\"usher\",\"epoch\",\"triad\",\"break\",\"rhino\",\"viral\",\"conic\",\"masse\",\"sonic\",\"vital\",\"trace\",\"using\",\"peach\",\"champ\",\"baton\",\"brake\",\"pluck\",\"craze\",\"gripe\",\"weary\",\"picky\",\"acute\",\"ferry\",\"aside\",\"tapir\",\"troll\",\"unify\",\"rebus\",\"boost\",\"truss\",\"siege\",\"tiger\",\"banal\",\"slump\",\"crank\",\"gorge\",\"query\",\"drink\",\"favor\",\"abbey\",\"tangy\",\"panic\",\"solar\",\"shire\",\"proxy\",\"point\",\"robot\",\"prick\",\"wince\",\"crimp\",\"knoll\",\"sugar\",\"whack\",\"mount\",\"perky\",\"could\",\"wrung\",\"light\",\"those\",\"moist\",\"shard\",\"pleat\",\"aloft\",\"skill\",\"elder\",\"frame\",\"humor\",\"pause\",\"ulcer\",\"ultra\",\"robin\",\"cynic\",\"aroma\",\"caulk\",\"shake\",\"dodge\",\"swill\",\"tacit\",\"other\",\"thorn\",\"trove\",\"bloke\",\"vivid\",\"spill\",\"chant\",\"choke\",\"rupee\",\"nasty\",\"mourn\",\"ahead\",\"brine\",\"cloth\",\"hoard\",\"sweet\",\"month\",\"lapse\",\"watch\",\"today\",\"focus\",\"smelt\",\"tease\",\"cater\",\"movie\",\"saute\",\"allow\",\"renew\",\"their\",\"slosh\",\"purge\",\"chest\",\"depot\",\"epoxy\",\"nymph\",\"found\",\"shall\",\"stove\",\"lowly\",\"snout\",\"trope\",\"fewer\",\"shawl\",\"natal\",\"comma\",\"foray\",\"scare\",\"stair\",\"black\",\"squad\",\"royal\",\"chunk\",\"mince\",\"shame\",\"cheek\",\"ample\",\"flair\",\"foyer\",\"cargo\",\"oxide\",\"plant\",\"olive\",\"inert\",\"askew\",\"heist\",\"shown\",\"zesty\",\"trash\",\"larva\",\"forgo\",\"story\",\"hairy\",\"train\",\"homer\",\"badge\",\"midst\",\"canny\",\"shine\",\"gecko\",\"farce\",\"slung\",\"tipsy\",\"metal\",\"yield\",\"delve\",\"being\",\"scour\",\"glass\",\"gamer\",\"scrap\",\"money\",\"hinge\",\"album\",\"vouch\",\"asset\",\"tiara\",\"crept\",\"bayou\",\"atoll\",\"manor\",\"creak\",\"showy\",\"phase\",\"froth\",\"depth\",\"gloom\",\"flood\",\"trait\",\"girth\",\"piety\",\"goose\",\"float\",\"donor\",\"atone\",\"primo\",\"apron\",\"blown\",\"cacao\",\"loser\",\"input\",\"gloat\",\"awful\",\"brink\",\"smite\",\"beady\",\"rusty\",\"retro\",\"droll\",\"gawky\",\"hutch\",\"pinto\",\"egret\",\"lilac\",\"sever\",\"field\",\"fluff\",\"agape\",\"voice\",\"stead\",\"berth\",\"madam\",\"night\",\"bland\",\"liver\",\"wedge\",\"roomy\",\"wacky\",\"flock\",\"angry\",\"trite\",\"aphid\",\"tryst\",\"midge\",\"power\",\"elope\",\"cinch\",\"motto\",\"stomp\",\"upset\",\"bluff\",\"cramp\",\"quart\",\"coyly\",\"youth\",\"rhyme\",\"buggy\",\"alien\",\"smear\",\"unfit\",\"patty\",\"cling\",\"glean\",\"label\",\"hunky\",\"khaki\",\"poker\",\"gruel\",\"twice\",\"twang\",\"shrug\",\"treat\",\"waste\",\"merit\",\"woven\",\"needy\",\"clown\",\"irony\",\"ruder\",\"gauze\",\"chief\",\"onset\",\"prize\",\"fungi\",\"charm\",\"gully\",\"inter\",\"whoop\",\"taunt\",\"leery\",\"class\",\"theme\",\"lofty\",\"tibia\",\"booze\",\"alpha\",\"thyme\",\"doubt\",\"parer\",\"chute\",\"stick\",\"trice\",\"alike\",\"recap\",\"saint\",\"glory\",\"grate\",\"admit\",\"brisk\",\"soggy\",\"usurp\",\"scald\",\"scorn\",\"leave\",\"twine\",\"sting\",\"bough\",\"marsh\",\"sloth\",\"dandy\",\"vigor\",\"howdy\",\"enjoy\",\"valid\",\"ionic\",\"equal\",\"floor\",\"catch\",\"spade\",\"stein\",\"exist\",\"quirk\",\"denim\",\"grove\",\"spiel\",\"mummy\",\"fault\",\"foggy\",\"flout\",\"carry\",\"sneak\",\"libel\",\"waltz\",\"aptly\",\"piney\",\"inept\",\"aloud\",\"photo\",\"dream\",\"stale\",\"unite\",\"snarl\",\"baker\",\"there\",\"glyph\",\"pooch\",\"hippy\",\"spell\",\"folly\",\"louse\",\"gulch\",\"vault\",\"godly\",\"threw\",\"fleet\",\"grave\",\"inane\",\"shock\",\"crave\",\"spite\",\"valve\",\"skimp\",\"claim\",\"rainy\",\"musty\",\"pique\",\"daddy\",\"quasi\",\"arise\",\"aging\",\"valet\",\"opium\",\"avert\",\"stuck\",\"recut\",\"mulch\",\"genre\",\"plume\",\"rifle\",\"count\",\"incur\",\"total\",\"wrest\",\"mocha\",\"deter\",\"study\",\"lover\",\"safer\",\"rivet\",\"funny\",\"smoke\",\"mound\",\"undue\",\"sedan\",\"pagan\",\"swine\",\"guile\",\"gusty\",\"equip\",\"tough\",\"canoe\",\"chaos\",\"covet\",\"human\",\"udder\",\"lunch\",\"blast\",\"stray\",\"manga\",\"melee\",\"lefty\",\"quick\",\"paste\",\"given\",\"octet\",\"risen\",\"groan\",\"leaky\",\"grind\",\"carve\",\"loose\",\"sadly\",\"spilt\",\"apple\",\"slack\",\"honey\",\"final\",\"sheen\",\"eerie\",\"minty\",\"slick\",\"derby\",\"wharf\",\"spelt\",\"coach\",\"erupt\",\"singe\",\"price\",\"spawn\",\"fairy\",\"jiffy\",\"filmy\",\"stack\",\"chose\",\"sleep\",\"ardor\",\"nanny\",\"niece\",\"woozy\",\"handy\",\"grace\",\"ditto\",\"stank\",\"cream\",\"usual\",\"diode\",\"valor\",\"angle\",\"ninja\",\"muddy\",\"chase\",\"reply\",\"prone\",\"spoil\",\"heart\",\"shade\",\"diner\",\"arson\",\"onion\",\"sleet\",\"dowel\",\"couch\",\"palsy\",\"bowel\",\"smile\",\"evoke\",\"creek\",\"lance\",\"eagle\",\"idiot\",\"siren\",\"built\",\"embed\",\"award\",\"dross\",\"annul\",\"goody\",\"frown\",\"patio\",\"laden\",\"humid\",\"elite\",\"lymph\",\"edify\",\"might\",\"reset\",\"visit\",\"gusto\",\"purse\",\"vapor\",\"crock\",\"write\",\"sunny\",\"loath\",\"chaff\",\"slide\",\"queer\",\"venom\",\"stamp\",\"sorry\",\"still\",\"acorn\",\"aping\",\"pushy\",\"tamer\",\"hater\",\"mania\",\"awoke\",\"brawn\",\"swift\",\"exile\",\"birch\",\"lucky\",\"freer\",\"risky\",\"ghost\",\"plier\",\"lunar\",\"winch\",\"snare\",\"nurse\",\"house\",\"borax\",\"nicer\",\"lurch\",\"exalt\",\"about\",\"savvy\",\"toxin\",\"tunic\",\"pried\",\"inlay\",\"chump\",\"lanky\",\"cress\",\"eater\",\"elude\",\"cycle\",\"kitty\",\"boule\",\"moron\",\"tenet\",\"place\",\"lobby\",\"plush\",\"vigil\",\"index\",\"blink\",\"clung\",\"qualm\",\"croup\",\"clink\",\"juicy\",\"stage\",\"decay\",\"nerve\",\"flier\",\"shaft\",\"crook\",\"clean\",\"china\",\"ridge\",\"vowel\",\"gnome\",\"snuck\",\"icing\",\"spiny\",\"rigor\",\"snail\",\"flown\",\"rabid\",\"prose\",\"thank\",\"poppy\",\"budge\",\"fiber\",\"moldy\",\"dowdy\",\"kneel\",\"track\",\"caddy\",\"quell\",\"dumpy\",\"paler\",\"swore\",\"rebar\",\"scuba\",\"splat\",\"flyer\",\"horny\",\"mason\",\"doing\",\"ozone\",\"amply\",\"molar\",\"ovary\",\"beset\",\"queue\",\"cliff\",\"magic\",\"truce\",\"sport\",\"fritz\",\"edict\",\"twirl\",\"verse\",\"llama\",\"eaten\",\"range\",\"whisk\",\"hovel\",\"rehab\",\"macaw\",\"sigma\",\"spout\",\"verve\",\"sushi\",\"dying\",\"fetid\",\"brain\",\"buddy\",\"thump\",\"scion\",\"candy\",\"chord\",\"basin\",\"march\",\"crowd\",\"arbor\",\"gayly\",\"musky\",\"stain\",\"dally\",\"bless\",\"bravo\",\"stung\",\"title\",\"ruler\",\"kiosk\",\"blond\",\"ennui\",\"layer\",\"fluid\",\"tatty\",\"score\",\"cutie\",\"zebra\",\"barge\",\"matey\",\"bluer\",\"aider\",\"shook\",\"river\",\"privy\",\"betel\",\"frisk\",\"bongo\",\"begun\",\"azure\",\"weave\",\"genie\",\"sound\",\"glove\",\"braid\",\"scope\",\"wryly\",\"rover\",\"assay\",\"ocean\",\"bloom\",\"irate\",\"later\",\"woken\",\"silky\",\"wreck\",\"dwelt\",\"slate\",\"smack\",\"solid\",\"amaze\",\"hazel\",\"wrist\",\"jolly\",\"globe\",\"flint\",\"rouse\",\"civil\",\"vista\",\"relax\",\"cover\",\"alive\",\"beech\",\"jetty\",\"bliss\",\"vocal\",\"often\",\"dolly\",\"eight\",\"joker\",\"since\",\"event\",\"ensue\",\"shunt\",\"diver\",\"poser\",\"worst\",\"sweep\",\"alley\",\"creed\",\"anime\",\"leafy\",\"bosom\",\"dunce\",\"stare\",\"pudgy\",\"waive\",\"choir\",\"stood\",\"spoke\",\"outgo\",\"delay\",\"bilge\",\"ideal\",\"clasp\",\"seize\",\"hotly\",\"laugh\",\"sieve\",\"block\",\"meant\",\"grape\",\"noose\",\"hardy\",\"shied\",\"drawl\",\"daisy\",\"putty\",\"strut\",\"burnt\",\"tulip\",\"crick\",\"idyll\",\"vixen\",\"furor\",\"geeky\",\"cough\",\"naive\",\"shoal\",\"stork\",\"bathe\",\"aunty\",\"check\",\"prime\",\"brass\",\"outer\",\"furry\",\"razor\",\"elect\",\"evict\",\"imply\",\"demur\",\"quota\",\"haven\",\"cavil\",\"swear\",\"crump\",\"dough\",\"gavel\",\"wagon\",\"salon\",\"nudge\",\"harem\",\"pitch\",\"sworn\",\"pupil\",\"excel\",\"stony\",\"cabin\",\"unzip\",\"queen\",\"trout\",\"polyp\",\"earth\",\"storm\",\"until\",\"taper\",\"enter\",\"child\",\"adopt\",\"minor\",\"fatty\",\"husky\",\"brave\",\"filet\",\"slime\",\"glint\",\"tread\",\"steal\",\"regal\",\"guest\",\"every\",\"murky\",\"share\",\"spore\",\"hoist\",\"buxom\",\"inner\",\"otter\",\"dimly\",\"level\",\"sumac\",\"donut\",\"stilt\",\"arena\",\"sheet\",\"scrub\",\"fancy\",\"slimy\",\"pearl\",\"silly\",\"porch\",\"dingo\",\"sepia\",\"amble\",\"shady\",\"bread\",\"friar\",\"reign\",\"dairy\",\"quill\",\"cross\",\"brood\",\"tuber\",\"shear\",\"posit\",\"blank\",\"villa\",\"shank\",\"piggy\",\"freak\",\"which\",\"among\",\"fecal\",\"shell\",\"would\",\"algae\",\"large\",\"rabbi\",\"agony\",\"amuse\",\"bushy\",\"copse\",\"swoon\",\"knife\",\"pouch\",\"ascot\",\"plane\",\"crown\",\"urban\",\"snide\",\"relay\",\"abide\",\"viola\",\"rajah\",\"straw\",\"dilly\",\"crash\",\"amass\",\"third\",\"trick\",\"tutor\",\"woody\",\"blurb\",\"grief\",\"disco\",\"where\",\"sassy\",\"beach\",\"sauna\",\"comic\",\"clued\",\"creep\",\"caste\",\"graze\",\"snuff\",\"frock\",\"gonad\",\"drunk\",\"prong\",\"lurid\",\"steel\",\"halve\",\"buyer\",\"vinyl\",\"utile\",\"smell\",\"adage\",\"worry\",\"tasty\",\"local\",\"trade\",\"finch\",\"ashen\",\"modal\",\"gaunt\",\"clove\",\"enact\",\"adorn\",\"roast\",\"speck\",\"sheik\",\"missy\",\"grunt\",\"snoop\",\"party\",\"touch\",\"mafia\",\"emcee\",\"array\",\"south\",\"vapid\",\"jelly\",\"skulk\",\"angst\",\"tubal\",\"lower\",\"crest\",\"sweat\",\"cyber\",\"adore\",\"tardy\",\"swami\",\"notch\",\"groom\",\"roach\",\"hitch\",\"young\",\"align\",\"ready\",\"frond\",\"strap\",\"puree\",\"realm\",\"venue\",\"swarm\",\"offer\",\"seven\",\"dryer\",\"diary\",\"dryly\",\"drank\",\"acrid\",\"heady\",\"theta\",\"junto\",\"pixie\",\"quoth\",\"bonus\",\"shalt\",\"penne\",\"amend\",\"datum\",\"build\",\"piano\",\"shelf\",\"lodge\",\"suing\",\"rearm\",\"coral\",\"ramen\",\"worth\",\"psalm\",\"infer\",\"overt\",\"mayor\",\"ovoid\",\"glide\",\"usage\",\"poise\",\"randy\",\"chuck\",\"prank\",\"fishy\",\"tooth\",\"ether\",\"drove\",\"idler\",\"swath\",\"stint\",\"while\",\"begat\",\"apply\",\"slang\",\"tarot\",\"radar\",\"credo\",\"aware\",\"canon\",\"shift\",\"timer\",\"bylaw\",\"serum\",\"three\",\"steak\",\"iliac\",\"shirk\",\"blunt\",\"puppy\",\"penal\",\"joist\",\"bunny\",\"shape\",\"beget\",\"wheel\",\"adept\",\"stunt\",\"stole\",\"topaz\",\"chore\",\"fluke\",\"afoot\",\"bloat\",\"bully\",\"dense\",\"caper\",\"sneer\",\"boxer\",\"jumbo\",\"lunge\",\"space\",\"avail\",\"short\",\"slurp\",\"loyal\",\"flirt\",\"pizza\",\"conch\",\"tempo\",\"droop\",\"plate\",\"bible\",\"plunk\",\"afoul\",\"savoy\",\"steep\",\"agile\",\"stake\",\"dwell\",\"knave\",\"beard\",\"arose\",\"motif\",\"smash\",\"broil\",\"glare\",\"shove\",\"baggy\",\"mammy\",\"swamp\",\"along\",\"rugby\",\"wager\",\"quack\",\"squat\",\"snaky\",\"debit\",\"mange\",\"skate\",\"ninth\",\"joust\",\"tramp\",\"spurn\",\"medal\",\"micro\",\"rebel\",\"flank\",\"learn\",\"nadir\",\"maple\",\"comfy\",\"remit\",\"gruff\",\"ester\",\"least\",\"mogul\",\"fetch\",\"cause\",\"oaken\",\"aglow\",\"meaty\",\"gaffe\",\"shyly\",\"racer\",\"prowl\",\"thief\",\"stern\",\"poesy\",\"rocky\",\"tweet\",\"waist\",\"spire\",\"grope\",\"havoc\",\"patsy\",\"truly\",\"forty\",\"deity\",\"uncle\",\"swish\",\"giver\",\"preen\",\"bevel\",\"lemur\",\"draft\",\"slope\",\"annoy\",\"lingo\",\"bleak\",\"ditty\",\"curly\",\"cedar\",\"dirge\",\"grown\",\"horde\",\"drool\",\"shuck\",\"crypt\",\"cumin\",\"stock\",\"gravy\",\"locus\",\"wider\",\"breed\",\"quite\",\"chafe\",\"cache\",\"blimp\",\"deign\",\"fiend\",\"logic\",\"cheap\",\"elide\",\"rigid\",\"false\",\"renal\",\"pence\",\"rowdy\",\"shoot\",\"blaze\",\"envoy\",\"posse\",\"brief\",\"never\",\"abort\",\"mouse\",\"mucky\",\"sulky\",\"fiery\",\"media\",\"trunk\",\"yeast\",\"clear\",\"skunk\",\"scalp\",\"bitty\",\"cider\",\"koala\",\"duvet\",\"segue\",\"creme\",\"super\",\"grill\",\"after\",\"owner\",\"ember\",\"reach\",\"nobly\",\"empty\",\"speed\",\"gipsy\",\"recur\",\"smock\",\"dread\",\"merge\",\"burst\",\"kappa\",\"amity\",\"shaky\",\"hover\",\"carol\",\"snort\",\"synod\",\"faint\",\"haunt\",\"flour\",\"chair\",\"detox\",\"shrew\",\"tense\",\"plied\",\"quark\",\"burly\",\"novel\",\"waxen\",\"stoic\",\"jerky\",\"blitz\",\"beefy\",\"lyric\",\"hussy\",\"towel\",\"quilt\",\"below\",\"bingo\",\"wispy\",\"brash\",\"scone\",\"toast\",\"easel\",\"saucy\",\"value\",\"spice\",\"honor\",\"route\",\"sharp\",\"bawdy\",\"radii\",\"skull\",\"phony\",\"issue\",\"lager\",\"swell\",\"urine\",\"gassy\",\"trial\",\"flora\",\"upper\",\"latch\",\"wight\",\"brick\",\"retry\",\"holly\",\"decal\",\"grass\",\"shack\",\"dogma\",\"mover\",\"defer\",\"sober\",\"optic\",\"crier\",\"vying\",\"nomad\",\"flute\",\"hippo\",\"shark\",\"drier\",\"obese\",\"bugle\",\"tawny\",\"chalk\",\"feast\",\"ruddy\",\"pedal\",\"scarf\",\"cruel\",\"bleat\",\"tidal\",\"slush\",\"semen\",\"windy\",\"dusty\",\"sally\",\"igloo\",\"nerdy\",\"jewel\",\"shone\",\"whale\",\"hymen\",\"abuse\",\"fugue\",\"elbow\",\"crumb\",\"pansy\",\"welsh\",\"syrup\",\"terse\",\"suave\",\"gamut\",\"swung\",\"drake\",\"freed\",\"afire\",\"shirt\",\"grout\",\"oddly\",\"tithe\",\"plaid\",\"dummy\",\"broom\",\"blind\",\"torch\",\"enemy\",\"again\",\"tying\",\"pesky\",\"alter\",\"gazer\",\"noble\",\"ethos\",\"bride\",\"extol\",\"decor\",\"hobby\",\"beast\",\"idiom\",\"utter\",\"these\",\"sixth\",\"alarm\",\"erase\",\"elegy\",\"spunk\",\"piper\",\"scaly\",\"scold\",\"hefty\",\"chick\",\"sooty\",\"canal\",\"whiny\",\"slash\",\"quake\",\"joint\",\"swept\",\"prude\",\"heavy\",\"wield\",\"femme\",\"lasso\",\"maize\",\"shale\",\"screw\",\"spree\",\"smoky\",\"whiff\",\"scent\",\"glade\",\"spent\",\"prism\",\"stoke\",\"riper\",\"orbit\",\"cocoa\",\"guilt\",\"humus\",\"shush\",\"table\",\"smirk\",\"wrong\",\"noisy\",\"alert\",\"shiny\",\"elate\",\"resin\",\"whole\",\"hunch\",\"pixel\",\"polar\",\"hotel\",\"sword\",\"cleat\",\"mango\",\"rumba\",\"puffy\",\"filly\",\"billy\",\"leash\",\"clout\",\"dance\",\"ovate\",\"facet\",\"chili\",\"paint\",\"liner\",\"curio\",\"salty\",\"audio\",\"snake\",\"fable\",\"cloak\",\"navel\",\"spurt\",\"pesto\",\"balmy\",\"flash\",\"unwed\",\"early\",\"churn\",\"weedy\",\"stump\",\"lease\",\"witty\",\"wimpy\",\"spoof\",\"saner\",\"blend\",\"salsa\",\"thick\",\"warty\",\"manic\",\"blare\",\"squib\",\"spoon\",\"probe\",\"crepe\",\"knack\",\"force\",\"debut\",\"order\",\"haste\",\"teeth\",\"agent\",\"widen\",\"icily\",\"slice\",\"ingot\",\"clash\",\"juror\",\"blood\",\"abode\",\"throw\",\"unity\",\"pivot\",\"slept\",\"troop\",\"spare\",\"sewer\",\"parse\",\"morph\",\"cacti\",\"tacky\",\"spool\",\"demon\",\"moody\",\"annex\",\"begin\",\"fuzzy\",\"patch\",\"water\",\"lumpy\",\"admin\",\"omega\",\"limit\",\"tabby\",\"macho\",\"aisle\",\"skiff\",\"basis\",\"plank\",\"verge\",\"botch\",\"crawl\",\"lousy\",\"slain\",\"cubic\",\"raise\",\"wrack\",\"guide\",\"foist\",\"cameo\",\"under\",\"actor\",\"revue\",\"fraud\",\"harpy\",\"scoop\",\"climb\",\"refer\",\"olden\",\"clerk\",\"debar\",\"tally\",\"ethic\",\"cairn\",\"tulle\",\"ghoul\",\"hilly\",\"crude\",\"apart\",\"scale\",\"older\",\"plain\",\"sperm\",\"briny\",\"abbot\",\"rerun\",\"quest\",\"crisp\",\"bound\",\"befit\",\"drawn\",\"suite\",\"itchy\",\"cheer\",\"bagel\",\"guess\",\"broad\",\"axiom\",\"chard\",\"caput\",\"leant\",\"harsh\",\"curse\",\"proud\",\"swing\",\"opine\",\"taste\",\"lupus\",\"gumbo\",\"miner\",\"green\",\"chasm\",\"lipid\",\"topic\",\"armor\",\"brush\",\"crane\",\"mural\",\"abled\",\"habit\",\"bossy\",\"maker\",\"dusky\",\"dizzy\",\"lithe\",\"brook\",\"jazzy\",\"fifty\",\"sense\",\"giant\",\"surly\",\"legal\",\"fatal\",\"flunk\",\"began\",\"prune\",\"small\",\"slant\",\"scoff\",\"torus\",\"ninny\",\"covey\",\"viper\",\"taken\",\"moral\",\"vogue\",\"owing\",\"token\",\"entry\",\"booth\",\"voter\",\"chide\",\"elfin\",\"ebony\",\"neigh\",\"minim\",\"melon\",\"kneed\",\"decoy\",\"voila\",\"ankle\",\"arrow\",\"mushy\",\"tribe\",\"cease\",\"eager\",\"birth\",\"graph\",\"odder\",\"terra\",\"weird\",\"tried\",\"clack\",\"color\",\"rough\",\"weigh\",\"uncut\",\"ladle\",\"strip\",\"craft\",\"minus\",\"dicey\",\"titan\",\"lucid\",\"vicar\",\"dress\",\"ditch\",\"gypsy\",\"pasta\",\"taffy\",\"flame\",\"swoop\",\"aloof\",\"sight\",\"broke\",\"teary\",\"chart\",\"sixty\",\"wordy\",\"sheer\",\"leper\",\"nosey\",\"bulge\",\"savor\",\"clamp\",\"funky\",\"foamy\",\"toxic\",\"brand\",\"plumb\",\"dingy\",\"butte\",\"drill\",\"tripe\",\"bicep\",\"tenor\",\"krill\",\"worse\",\"drama\",\"hyena\",\"think\",\"ratio\",\"cobra\",\"basil\",\"scrum\",\"bused\",\"phone\",\"court\",\"camel\",\"proof\",\"heard\",\"angel\",\"petal\",\"pouty\",\"throb\",\"maybe\",\"fetal\",\"sprig\",\"spine\",\"shout\",\"cadet\",\"macro\",\"dodgy\",\"satyr\",\"rarer\",\"binge\",\"trend\",\"nutty\",\"leapt\",\"amiss\",\"split\",\"myrrh\",\"width\",\"sonar\",\"tower\",\"baron\",\"fever\",\"waver\",\"spark\",\"belie\",\"sloop\",\"expel\",\"smote\",\"baler\",\"above\",\"north\",\"wafer\",\"scant\",\"frill\",\"awash\",\"snack\",\"scowl\",\"frail\",\"drift\",\"limbo\",\"fence\",\"motel\",\"ounce\",\"wreak\",\"revel\",\"talon\",\"prior\",\"knelt\",\"cello\",\"flake\",\"debug\",\"anode\",\"crime\",\"salve\",\"scout\",\"imbue\",\"pinky\",\"stave\",\"vague\",\"chock\",\"fight\",\"video\",\"stone\",\"teach\",\"cleft\",\"frost\",\"prawn\",\"booty\",\"twist\",\"apnea\",\"stiff\",\"plaza\",\"ledge\",\"tweak\",\"board\",\"grant\",\"medic\",\"bacon\",\"cable\",\"brawl\",\"slunk\",\"raspy\",\"forum\",\"drone\",\"women\",\"mucus\",\"boast\",\"toddy\",\"coven\",\"tumor\",\"truer\",\"wrath\",\"stall\",\"steam\",\"axial\",\"purer\",\"daily\",\"trail\",\"niche\",\"mealy\",\"juice\",\"nylon\",\"plump\",\"merry\",\"flail\",\"papal\",\"wheat\",\"berry\",\"cower\",\"erect\",\"brute\",\"leggy\",\"snipe\",\"sinew\",\"skier\",\"penny\",\"jumpy\",\"rally\",\"umbra\",\"scary\",\"modem\",\"gross\",\"avian\",\"greed\",\"satin\",\"tonic\",\"parka\",\"sniff\",\"livid\",\"stark\",\"trump\",\"giddy\",\"reuse\",\"taboo\",\"avoid\",\"quote\",\"devil\",\"liken\",\"gloss\",\"gayer\",\"beret\",\"noise\",\"gland\",\"dealt\",\"sling\",\"rumor\",\"opera\",\"thigh\",\"tonga\",\"flare\",\"wound\",\"white\",\"bulky\",\"etude\",\"horse\",\"circa\",\"paddy\",\"inbox\",\"fizzy\",\"grain\",\"exert\",\"surge\",\"gleam\",\"belle\",\"salvo\",\"crush\",\"fruit\",\"sappy\",\"taker\",\"tract\",\"ovine\",\"spiky\",\"frank\",\"reedy\",\"filth\",\"spasm\",\"heave\",\"mambo\",\"right\",\"clank\",\"trust\",\"lumen\",\"borne\",\"spook\",\"sauce\",\"amber\",\"lathe\",\"carat\",\"corer\",\"dirty\",\"slyly\",\"affix\",\"alloy\",\"taint\",\"sheep\",\"kinky\",\"wooly\",\"mauve\",\"flung\",\"yacht\",\"fried\",\"quail\",\"brunt\",\"grimy\",\"curvy\",\"cagey\",\"rinse\",\"deuce\",\"state\",\"grasp\",\"milky\",\"bison\",\"graft\",\"sandy\",\"baste\",\"flask\",\"hedge\",\"girly\",\"swash\",\"boney\",\"coupe\",\"endow\",\"abhor\",\"welch\",\"blade\",\"tight\",\"geese\",\"miser\",\"mirth\",\"cloud\",\"cabal\",\"leech\",\"close\",\"tenth\",\"pecan\",\"droit\",\"grail\",\"clone\",\"guise\",\"ralph\",\"tango\",\"biddy\",\"smith\",\"mower\",\"payee\",\"serif\",\"drape\",\"fifth\",\"spank\",\"glaze\",\"allot\",\"truck\",\"kayak\",\"virus\",\"testy\",\"tepee\",\"fully\",\"zonal\",\"metro\",\"curry\",\"grand\",\"banjo\",\"axion\",\"bezel\",\"occur\",\"chain\",\"nasal\",\"gooey\",\"filer\",\"brace\",\"allay\",\"pubic\",\"raven\",\"plead\",\"gnash\",\"flaky\",\"munch\",\"dully\",\"eking\",\"thing\",\"slink\",\"hurry\",\"theft\",\"shorn\",\"pygmy\",\"ranch\",\"wring\",\"lemon\",\"shore\",\"mamma\",\"froze\",\"newer\",\"style\",\"moose\",\"antic\",\"drown\",\"vegan\",\"chess\",\"guppy\",\"union\",\"lever\",\"lorry\",\"image\",\"cabby\",\"druid\",\"exact\",\"truth\",\"dopey\",\"spear\",\"cried\",\"chime\",\"crony\",\"stunk\",\"timid\",\"batch\",\"gauge\",\"rotor\",\"crack\",\"curve\",\"latte\",\"witch\",\"bunch\",\"repel\",\"anvil\",\"soapy\",\"meter\",\"broth\",\"madly\",\"dried\",\"scene\",\"known\",\"magma\",\"roost\",\"woman\",\"thong\",\"punch\",\"pasty\",\"downy\",\"knead\",\"whirl\",\"rapid\",\"clang\",\"anger\",\"drive\",\"goofy\",\"email\",\"music\",\"stuff\",\"bleep\",\"rider\",\"mecca\",\"folio\",\"setup\",\"verso\",\"quash\",\"fauna\",\"gummy\",\"happy\",\"newly\",\"fussy\",\"relic\",\"guava\",\"ratty\",\"fudge\",\"femur\",\"chirp\",\"forte\",\"alibi\",\"whine\",\"petty\",\"golly\",\"plait\",\"fleck\",\"felon\",\"gourd\",\"brown\",\"thrum\",\"ficus\",\"stash\",\"decry\",\"wiser\",\"junta\",\"visor\",\"daunt\",\"scree\",\"impel\",\"await\",\"press\",\"whose\",\"turbo\",\"stoop\",\"speak\",\"mangy\",\"eying\",\"inlet\",\"crone\",\"pulse\",\"mossy\",\"staid\",\"hence\",\"pinch\",\"teddy\",\"sully\",\"snore\",\"ripen\",\"snowy\",\"attic\",\"going\",\"leach\",\"mouth\",\"hound\",\"clump\",\"tonal\",\"bigot\",\"peril\",\"piece\",\"blame\",\"haute\",\"spied\",\"undid\",\"intro\",\"basal\",\"rodeo\",\"guard\",\"steer\",\"loamy\",\"scamp\",\"scram\",\"manly\",\"hello\",\"vaunt\",\"organ\",\"feral\",\"knock\",\"extra\",\"condo\",\"adapt\",\"willy\",\"polka\",\"rayon\",\"skirt\",\"faith\",\"torso\",\"match\",\"mercy\",\"tepid\",\"sleek\",\"riser\",\"twixt\",\"peace\",\"flush\",\"catty\",\"login\",\"eject\",\"roger\",\"rival\",\"untie\",\"refit\",\"aorta\",\"adult\",\"judge\",\"rower\",\"artsy\",\"rural\",\"shave\",\"bobby\",\"eclat\",\"fella\",\"gaily\",\"harry\",\"hasty\",\"hydro\",\"liege\",\"octal\",\"ombre\",\"payer\",\"sooth\",\"unset\",\"unlit\",\"vomit\",\"fanny\",\"fetus\",\"butch\",\"stalk\",\"flack\",\"widow\",\"augur\"]\n",
        "Day_no = int(input(\"What day number do you want the word for?\"))\n",
        "print (wordle [Day_no - 1] )\n",
        "#Because the indexing starts at zero, we want to subtract by 1.. if user puts in 1, we want index @ zero.\n"
      ],
      "metadata": {
        "colab": {
          "base_uri": "https://localhost:8080/"
        },
        "id": "84CBUTI2LNao",
        "outputId": "340f91cd-0d0e-4137-fabc-0b01490509be"
      },
      "execution_count": 12,
      "outputs": [
        {
          "output_type": "stream",
          "name": "stdout",
          "text": [
            "What day number do you want the word for?5\n",
            "awake\n"
          ]
        }
      ]
    },
    {
      "cell_type": "markdown",
      "source": [
        "Tic-Tac-Toe"
      ],
      "metadata": {
        "id": "tC5WngbQP5uZ"
      }
    },
    {
      "cell_type": "code",
      "source": [
        "board = [[\"\",\"\",\"\"], [\"\", \"\", \"\",], [\"\",\"\",\"\"]]\n",
        "board[0][2]=\"x\"\n",
        "print(board)"
      ],
      "metadata": {
        "colab": {
          "base_uri": "https://localhost:8080/"
        },
        "id": "_nZ4RXjwPsoY",
        "outputId": "2396aea7-2013-4bdc-f116-503a4677749a"
      },
      "execution_count": 21,
      "outputs": [
        {
          "output_type": "stream",
          "name": "stdout",
          "text": [
            "[['', '', 'x'], ['', '', ''], ['', '', '']]\n"
          ]
        }
      ]
    },
    {
      "cell_type": "code",
      "source": [
        "board = [[\"\",\"\",\"\"], [\"\", \"\", \"\",], [\"\",\"\",\"\"]]\n",
        "board[0][2]=\"x\"\n",
        "for row in board:\n",
        "  print (row)"
      ],
      "metadata": {
        "colab": {
          "base_uri": "https://localhost:8080/"
        },
        "id": "YFIo7VUxT7Dn",
        "outputId": "fa75ca80-d1ea-4026-d8db-28ce4381d5ce"
      },
      "execution_count": 22,
      "outputs": [
        {
          "output_type": "stream",
          "name": "stdout",
          "text": [
            "['', '', 'x']\n",
            "['', '', '']\n",
            "['', '', '']\n"
          ]
        }
      ]
    },
    {
      "cell_type": "markdown",
      "source": [
        "Tate's code"
      ],
      "metadata": {
        "id": "7Imsiiu8X_LR"
      }
    },
    {
      "cell_type": "code",
      "source": [
        "moves = 0 \n",
        "won = False\n",
        "board = [[\"\",\"\",\"\"], [\"\", \"\", \"\",], [\"\",\"\",\"\"]]\n",
        "while not won and moves < 9:\n",
        "  row = int (input('Which row?'))\n",
        "  col = int (input('Which column?'))\n",
        "  moves += 1\n",
        "  if moves % 2 ==0 and board [row][col]==\"\":  #if there is already a move in that spot.\n",
        "    board [row][col] = \"O\"\n",
        "  else:\n",
        "    board [row][col] = \"X\"\n",
        "\n",
        "  for row in board:\n",
        "    print(row)\n",
        "\n",
        "  if board [0][0] == \"X\" and board [0][1]  ==\"X\" and board [0][2] ==\"X\"\"\n",
        "    print (\"Player X has won!!\")\n",
        "    break\n",
        "  if board [1][O] == \"X\" and board [0][1]  ==\"X\" and board [1][2] ==\"X\"\"\n",
        "    print (\"Player X has won!!\")\n",
        "    break\n",
        "  if board [O][O] == \"X\" and board [0][1]  ==\"X\" and board [0][2] ==\"X\"\"\n",
        "    print (\"Player X has won!!\")\n",
        "    break"
      ],
      "metadata": {
        "id": "wpQ0ohMaYARB"
      },
      "execution_count": null,
      "outputs": []
    },
    {
      "cell_type": "code",
      "source": [
        "board = [[\"\",\"\",\"\"], [\"\", \"\", \"\",], [\"\",\"\",\"\"]]\n",
        "board[0][2]=\"x\"\n",
        "while (not game won and moves < 9)\n",
        "for row in board:\n",
        "  print (row)"
      ],
      "metadata": {
        "colab": {
          "base_uri": "https://localhost:8080/",
          "height": 131
        },
        "id": "c6V9HnFlUeCk",
        "outputId": "6d2b7a1b-bff8-4db4-a4f5-a28aa4ca52f7"
      },
      "execution_count": 26,
      "outputs": [
        {
          "output_type": "error",
          "ename": "SyntaxError",
          "evalue": "ignored",
          "traceback": [
            "\u001b[0;36m  File \u001b[0;32m\"<ipython-input-26-f7c32f61ec31>\"\u001b[0;36m, line \u001b[0;32m3\u001b[0m\n\u001b[0;31m    while (not game won and moves < 9)\u001b[0m\n\u001b[0m                      ^\u001b[0m\n\u001b[0;31mSyntaxError\u001b[0m\u001b[0;31m:\u001b[0m invalid syntax\n"
          ]
        }
      ]
    },
    {
      "cell_type": "markdown",
      "source": [
        "Average of a list"
      ],
      "metadata": {
        "id": "VU55MJtlT98s"
      }
    },
    {
      "cell_type": "code",
      "source": [
        "def get_average(scores_list):\n",
        "#function\n",
        "\tsum_of_scores = 0\n",
        "\tlength = len(scores_list)\n",
        "\tfor score in scores_list:\n",
        "\t\tsum_of_scores = sum_of_scores + score\t\n",
        "\taverage = sum_of_scores / length\t\n",
        "\treturn average"
      ],
      "metadata": {
        "id": "J-DK-Ff1UHRy"
      },
      "execution_count": 33,
      "outputs": []
    },
    {
      "cell_type": "code",
      "source": [
        "height = [54, 56, 58, 60, 62, 64, 66]\n",
        "sum = 0\n",
        "height_length = len(height)\n",
        "for final in height:\n",
        "  sum = sum + final\n",
        "average = sum/height_length\n",
        "print(average)"
      ],
      "metadata": {
        "colab": {
          "base_uri": "https://localhost:8080/"
        },
        "id": "Ov1pcMPvVaO5",
        "outputId": "1f315396-0243-4128-df77-9172a1797948"
      },
      "execution_count": 35,
      "outputs": [
        {
          "output_type": "stream",
          "name": "stdout",
          "text": [
            "60.0\n"
          ]
        }
      ]
    }
  ]
}