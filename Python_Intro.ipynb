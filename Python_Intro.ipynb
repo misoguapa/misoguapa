{
  "nbformat": 4,
  "nbformat_minor": 0,
  "metadata": {
    "colab": {
      "name": "Python_Intro.ipynb",
      "provenance": [],
      "collapsed_sections": [],
      "authorship_tag": "ABX9TyPfQALVaKZZk2ocsJxlKoN1",
      "include_colab_link": true
    },
    "kernelspec": {
      "name": "python3",
      "display_name": "Python 3"
    },
    "language_info": {
      "name": "python"
    }
  },
  "cells": [
    {
      "cell_type": "markdown",
      "metadata": {
        "id": "view-in-github",
        "colab_type": "text"
      },
      "source": [
        "<a href=\"https://colab.research.google.com/github/misoguapa/misoguapa/blob/main/Python_Intro.ipynb\" target=\"_parent\"><img src=\"https://colab.research.google.com/assets/colab-badge.svg\" alt=\"Open In Colab\"/></a>"
      ]
    },
    {
      "cell_type": "markdown",
      "source": [
        "FOR LOOPS syntax: used to go through the values in our lists or arrays. FOR each number IN nums array, prtin out (number)."
      ],
      "metadata": {
        "id": "RfOyXoRvAnJk"
      }
    },
    {
      "cell_type": "code",
      "execution_count": null,
      "metadata": {
        "colab": {
          "base_uri": "https://localhost:8080/"
        },
        "id": "muAzyNDN_F-O",
        "outputId": "a866083e-b422-4035-ff87-aec9caa2ac05"
      },
      "outputs": [
        {
          "output_type": "stream",
          "name": "stdout",
          "text": [
            "1\n",
            "2\n",
            "3\n",
            "4\n"
          ]
        }
      ],
      "source": [
        "nums = [1,2,3,4]\n",
        "for number in nums:\n",
        "  print (number)\n",
        "  "
      ]
    },
    {
      "cell_type": "markdown",
      "source": [
        "FOR each number IN nums array, prtin out (number) +1."
      ],
      "metadata": {
        "id": "wl6A7VotA4p8"
      }
    },
    {
      "cell_type": "code",
      "source": [
        "nums = [1,2,3,4]\n",
        "for number in nums:\n",
        "  print (number +1)"
      ],
      "metadata": {
        "colab": {
          "base_uri": "https://localhost:8080/"
        },
        "id": "Twi4eUtuA81_",
        "outputId": "e3a5928c-1092-496c-8ce7-fa00ff83e462"
      },
      "execution_count": null,
      "outputs": [
        {
          "output_type": "stream",
          "name": "stdout",
          "text": [
            "2\n",
            "3\n",
            "4\n",
            "5\n"
          ]
        }
      ]
    },
    {
      "cell_type": "markdown",
      "source": [
        "If we want to store it, we would have to make better list called better_nums"
      ],
      "metadata": {
        "id": "1vZ6pvpMBOh-"
      }
    },
    {
      "cell_type": "code",
      "source": [
        "nums = [1,2,3,4]\n",
        "better_nums = []\n",
        "for number in nums:\n",
        "    better_nums.append(number+1)\n",
        "print (better_nums)"
      ],
      "metadata": {
        "colab": {
          "base_uri": "https://localhost:8080/"
        },
        "id": "OICVkYcbBW5B",
        "outputId": "87f6babd-b38d-478d-9291-959120513ee8"
      },
      "execution_count": null,
      "outputs": [
        {
          "output_type": "stream",
          "name": "stdout",
          "text": [
            "[2, 3, 4, 5]\n"
          ]
        }
      ]
    },
    {
      "cell_type": "markdown",
      "source": [
        "Mini Question (slide 157)\n",
        "​​Sandra has been struggling with online school and is really nervous about her upcoming final exam. Beforehand, she wants to calculate her current average based off of the results of her last few tests. Write a function to help out Sandra that takes in a list of test scores as a parameter and returns the average of the test scores.\n",
        "Note: you should write your function so that it can work with a list of any length!\n"
      ],
      "metadata": {
        "id": "L5todWTnCcWw"
      }
    },
    {
      "cell_type": "code",
      "source": [
        "tests = [88,90,79]\n",
        "sum = 0 #declare outside of FOR LOOP, so that it won't reset sum everytime.\n",
        "num_tests = len(tests)\n",
        "for grade in tests:\n",
        "  sum = sum + grade\n",
        "#nothing indented here, so the loop goes back up and adds next tests value to sum.\n",
        "average = sum/num_tests\n",
        "print(average)"
      ],
      "metadata": {
        "colab": {
          "base_uri": "https://localhost:8080/"
        },
        "id": "65SuJkHyC9Ra",
        "outputId": "77d5074e-ac4d-476c-d336-2b9d4472a7dd"
      },
      "execution_count": null,
      "outputs": [
        {
          "output_type": "stream",
          "name": "stdout",
          "text": [
            "85.66666666666667\n"
          ]
        }
      ]
    },
    {
      "cell_type": "markdown",
      "source": [
        "LIST challenge Question(161)\n",
        "Tony is the leader of his high school’s student council and he’s been extremely swamped with work leading up to his school’s homecoming dance. He needs to create a roster of all the students that bought tickets, but there’s one major problem: the list he has contains a bunch of duplicate names! He needs a way to remove all the duplicate names from his list so that he can easily create the roster for the night.\n",
        "Write Tony a function that takes in a list as parameter and returns a new list without any duplicate entries.\n"
      ],
      "metadata": {
        "id": "8r2eolRwC7jp"
      }
    },
    {
      "cell_type": "code",
      "source": [
        "names = ['Dylan', 'Grace', 'Ryan', 'Bob', 'Bob', 'Jimmy', 'Jimmy']\n",
        "unique_names = []\n",
        "for person in names:\n",
        " if person not in unique_names:\n",
        "   unique_names.append(person)\n",
        "   print('added' +person)\n",
        " # unique = not in names #this would only give us a Boolean, T/F.\n",
        " #in names list, set person to dylan first, then go through FOR LOOP, then next loop, if dylan is NOT IN unique_names, then add in dylan. Person is a new variable to test for unique names and then add to unique_names.\n",
        " #If second Bob, goes through, sees that Bob IS IN unique_name, it will set that IF statement to false, and skip over the next level of append.\n",
        " else:\n",
        "    print(person +\"already in unique names\")\n",
        "print (unique_names)"
      ],
      "metadata": {
        "colab": {
          "base_uri": "https://localhost:8080/"
        },
        "id": "FCU9LBwfF6Yo",
        "outputId": "7405f8f4-21b0-4220-9cfb-9e4aef48d253"
      },
      "execution_count": null,
      "outputs": [
        {
          "output_type": "stream",
          "name": "stdout",
          "text": [
            "addedDylan\n",
            "addedGrace\n",
            "addedRyan\n",
            "addedBob\n",
            "Bobalready in unique names\n",
            "addedJimmy\n",
            "Jimmyalready in unique names\n",
            "['Dylan', 'Grace', 'Ryan', 'Bob', 'Jimmy']\n"
          ]
        }
      ]
    },
    {
      "cell_type": "markdown",
      "source": [
        ""
      ],
      "metadata": {
        "id": "YxIQ-0P6K8rf"
      }
    },
    {
      "cell_type": "code",
      "source": [
        ""
      ],
      "metadata": {
        "id": "5ovnzHggMnx8"
      },
      "execution_count": null,
      "outputs": []
    }
  ]
}